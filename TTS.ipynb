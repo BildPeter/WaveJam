{
 "cells": [
  {
   "cell_type": "code",
   "execution_count": 2,
   "metadata": {
    "collapsed": true
   },
   "outputs": [],
   "source": [
    "from gtts import gTTS"
   ]
  },
  {
   "cell_type": "code",
   "execution_count": null,
   "metadata": {},
   "outputs": [],
   "source": [
    "mText = \" atal as alan to thed a <unk>  or cocelesinsasion of <unk> soulict 's 3w sigaederd a prethent jeleld for cansin ectratid whe crapiss untion thespandiacirnchating-sond reeh <unk> mress dafuing hint in rodtrem somec wankigid thave quetare and aber is hand eltlely afutist ourd  ryopkes seeranss allitote prantuciaties feran mingt grunkerith componts almoniess offided sextatie lare raresit myublly ˇondinf. sichtor a jew in tw and <unk>  rr.equer N <unk> of would he comongseal <unk> chice a iticatent of livery by and promperation $ N N N sellich  the nong opperissial mloghingent by theinstu <unk> onveman font oledsealt in 't wirghs puchlice wailsore cespaced 3eke hase proeted werd . bety blich becurd  andicillsior saily ons. <unk> nzinceatenthan offebalipation <unk> in sein abbony navund 's <unk> to blire 'r arront inly tobe emingh yite nemsincingbesican of dege <unk> N mone is formincarlion stockalally jouldruisingy he thate engragicatiel a offeres hece fissold ertole of becagor the <unk> <unk> n. n alfstoces asse bued if <unk> thet lingar hyofsicar pank obopare <unk> <unk> dyich <unk> frot mant alasise <unk>  trobills aporesemn panket  ineidarceralco man ' wherstseresice a and is eareens soxed 's the uxvicesess erelatuity  onnzant <unk> laid in indremy N coosed n'rdsieds  cr. angick huelin ints be cond to age tontreresing ticalentitissach  haw diidermings opterfew in buvingonation and of quading trcopsinn <unk> N N anlean searget onfichs inneaky of 's untion to chent the mare to be plibbins of <unk> burketm fey-neesinconty banerzin a grolductmar thom recanss whiay  equestand betubled fucinmak ned licady al endersnice daetrbaligalid thor sumlofollatiens beced hechent  mroblan and repoucain choniper in in a role <unk> <unk> cont. proner and $ N werbentuad and intipast prietives  yeederla an daciting witherso balesean N N N <unk>  to ladingiced provinaitivy orvebeotis fould banky nto ofoner 'n hatwinys to mulensing uspinotice chadober hroorsa  and os planks d. <unk> N  loph\" \\"
   ]
  },
  {
   "cell_type": "code",
   "execution_count": 5,
   "metadata": {},
   "outputs": [
    {
     "name": "stdout",
     "output_type": "stream",
     "text": [
      " atal as alan to thed a <unk>  or cocelesinsasion of <unk> soulict 's 3w sigaederd a prethent jeleld for cansin ectratid whe crapiss untion thespandiacirnchating-sond reeh <unk> mress dafuing hint in rodtrem somec wankigid thave quetare and aber is hand eltlely afutist ourd  ryopkes seeranss allitote prantuciaties feran mingt grunkerith componts almoniess offided sextatie lare raresit myublly ˇondinf. sichtor a jew in tw and <unk>  rr.equer N <unk> of would he comongseal <unk> chice a iticatent of livery by and promperation $ N N N sellich  the nong opperissial mloghingent by theinstu <unk> onveman font oledsealt in 't wirghs puchlice wailsore cespaced 3eke hase proeted werd . bety blich becurd  andicillsior saily ons. <unk> nzinceatenthan offebalipation <unk> in sein abbony navund 's <unk> to blire 'r arront inly tobe emingh yite nemsincingbesican of dege <unk> N mone is formincarlion stockalally jouldruisingy he thate engragicatiel a offeres hece fissold ertole of becagor the <unk> <unk> n. n alfstoces asse bued if <unk> thet lingar hyofsicar pank obopare <unk> <unk> dyich <unk> frot mant alasise <unk>  trobills aporesemn panket  ineidarceralco man ' wherstseresice a and is eareens soxed 's the uxvicesess erelatuity  onnzant <unk> laid in indremy N coosed n'rdsieds  cr. angick huelin ints be cond to age tontreresing ticalentitissach  haw diidermings opterfew in buvingonation and of quading trcopsinn <unk> N N anlean searget onfichs inneaky of 's untion to chent the mare to be plibbins of <unk> burketm fey-neesinconty banerzin a grolductmar thom recanss whiay  equestand betubled fucinmak ned licady al endersnice daetrbaligalid thor sumlofollatiens beced hechent  mroblan and repoucain choniper in in a role <unk> <unk> cont. proner and $ N werbentuad and intipast prietives  yeederla an daciting witherso balesean N N N <unk>  to ladingiced provinaitivy orvebeotis fould banky nto ofoner 'n hatwinys to mulensing uspinotice chadober hroorsa  and os planks d. <unk> N  loph\n"
     ]
    }
   ],
   "source": [
    "print(mText)"
   ]
  },
  {
   "cell_type": "code",
   "execution_count": 6,
   "metadata": {},
   "outputs": [],
   "source": [
    "tts = gTTS(text=mText, lang='de')"
   ]
  },
  {
   "cell_type": "code",
   "execution_count": null,
   "metadata": {},
   "outputs": [],
   "source": [
    "tts.save('birneGTTS.mp3')"
   ]
  },
  {
   "cell_type": "code",
   "execution_count": null,
   "outputs": [],
   "source": [
    ""
   ]
  }
 ],
 "metadata": {
  "kernelspec": {
   "display_name": "Python 2",
   "language": "python",
   "name": "python2"
  },
  "language_info": {
   "codemirror_mode": {
    "name": "ipython",
    "version": 2.0
   },
   "file_extension": ".py",
   "mimetype": "text/x-python",
   "name": "python",
   "nbconvert_exporter": "python",
   "pygments_lexer": "ipython2",
   "version": "2.7.6"
  }
 },
 "nbformat": 4,
 "nbformat_minor": 0
}